{
 "cells": [
  {
   "cell_type": "code",
   "execution_count": 1,
   "metadata": {},
   "outputs": [],
   "source": [
    "import pandas as pd\n",
    "from pandas import DataFrame\n",
    "from sklearn.preprocessing import scale\n",
    "import numpy as np\n",
    "import seaborn as sns\n",
    "import matplotlib.pyplot as plt\n",
    "import matplotlib as mpl \n",
    "import os\n",
    "import csv"
   ]
  },
  {
   "cell_type": "code",
   "execution_count": 2,
   "metadata": {},
   "outputs": [],
   "source": [
    "# Import in the data \n",
    "# modal\n",
    "m1 = pd.read_csv(\"raw/modal_list1.csv\")\n",
    "m2 = pd.read_csv(\"raw/modal_list2.csv\")\n",
    "m3 = pd.read_csv(\"raw/modal_list3.csv\")\n",
    "m4 = pd.read_csv(\"raw/modal_list4.csv\")\n",
    "\n",
    "mod = [m1,m2,m3,m4]\n",
    "\n",
    "# nomodal\n",
    "nm1 = pd.read_csv(\"raw/nomodal_list1.csv\")\n",
    "nm2 = pd.read_csv(\"raw/nomodal_list2.csv\")\n",
    "nm3 = pd.read_csv(\"raw/nomodal_list3.csv\")\n",
    "nm4 = pd.read_csv(\"raw/nomodal_list4.csv\")\n",
    "nomod = [nm1,nm2,nm3]"
   ]
  },
  {
   "cell_type": "code",
   "execution_count": 3,
   "metadata": {},
   "outputs": [],
   "source": [
    "# m1"
   ]
  },
  {
   "cell_type": "code",
   "execution_count": 4,
   "metadata": {},
   "outputs": [],
   "source": [
    "# path = './raw'\n",
    "# filelist = os.listdir(path) \n",
    "# list = []\n",
    "\n",
    "# directory = os.fsencode(directory_in_str)\n",
    "\n",
    "# with open(results_filtered, 'wb+') as results_filtered, open(raw,'rb+') as raw:\n",
    "#     for \n",
    "#     # drop unwanted columns\n",
    "#     file.drop([\"RecordedDate\", \"ResponseId\", \"RecipientLastName\",\"Finished\",\"Duration (in seconds)\",\"Progress\",\"StartDate\",\"EndDate\",\"Status\",\"IPAddress\",\"RecipientFirstName\",\"RecipientEmail\",\"ExternalReference\",\"LocationLatitude\",\"LocationLongitude\",\"DistributionChannel\",\"UserLanguage\",\"Q21\"], axis=1)\n",
    "\n",
    "#     # rename the columns\n",
    "#     names = file.iloc[0]\n",
    "#     file.columns = names\n",
    "\n",
    "#     # drop the unwanted rows\n",
    "#     file = file.drop([0,1,2],axis=0)\n",
    "\n",
    "#     # convert wide to long\n",
    "# #         file = pd.melt(file, id_vars='subject', var_name='facts',value_name='response')"
   ]
  },
  {
   "cell_type": "code",
   "execution_count": 5,
   "metadata": {},
   "outputs": [],
   "source": [
    "m1 = m1.drop([\"RecordedDate\", \"ResponseId\", \"RecipientLastName\",\"Finished\",\"Duration (in seconds)\",\"Progress\",\"StartDate\",\"EndDate\",\"Status\",\"IPAddress\",\"RecipientFirstName\",\"RecipientEmail\",\"ExternalReference\",\"LocationLatitude\",\"LocationLongitude\",\"DistributionChannel\",\"UserLanguage\",\"Q21\"], axis=1)\n",
    "m2 = m2.drop([\"RecordedDate\", \"ResponseId\", \"RecipientLastName\",\"Finished\",\"Duration (in seconds)\",\"Progress\",\"StartDate\",\"EndDate\",\"Status\",\"IPAddress\",\"RecipientFirstName\",\"RecipientEmail\",\"ExternalReference\",\"LocationLatitude\",\"LocationLongitude\",\"DistributionChannel\",\"UserLanguage\",\"Q21\"], axis=1)\n",
    "m3 = m3.drop([\"RecordedDate\", \"ResponseId\", \"RecipientLastName\",\"Finished\",\"Duration (in seconds)\",\"Progress\",\"StartDate\",\"EndDate\",\"Status\",\"IPAddress\",\"RecipientFirstName\",\"RecipientEmail\",\"ExternalReference\",\"LocationLatitude\",\"LocationLongitude\",\"DistributionChannel\",\"UserLanguage\",\"Q21\"], axis=1)\n",
    "m4 = m4.drop([\"RecordedDate\", \"ResponseId\", \"RecipientLastName\",\"Finished\",\"Duration (in seconds)\",\"Progress\",\"StartDate\",\"EndDate\",\"Status\",\"IPAddress\",\"RecipientFirstName\",\"RecipientEmail\",\"ExternalReference\",\"LocationLatitude\",\"LocationLongitude\",\"DistributionChannel\",\"UserLanguage\",\"Q21\"], axis=1)\n",
    "\n",
    "nm1 = nm1.drop([\"RecordedDate\", \"ResponseId\", \"RecipientLastName\",\"Finished\",\"Duration (in seconds)\",\"Progress\",\"StartDate\",\"EndDate\",\"Status\",\"IPAddress\",\"RecipientFirstName\",\"RecipientEmail\",\"ExternalReference\",\"LocationLatitude\",\"LocationLongitude\",\"DistributionChannel\",\"UserLanguage\",\"Q21\"], axis=1)\n",
    "nm2 = nm2.drop([\"RecordedDate\", \"ResponseId\", \"RecipientLastName\",\"Finished\",\"Duration (in seconds)\",\"Progress\",\"StartDate\",\"EndDate\",\"Status\",\"IPAddress\",\"RecipientFirstName\",\"RecipientEmail\",\"ExternalReference\",\"LocationLatitude\",\"LocationLongitude\",\"DistributionChannel\",\"UserLanguage\",\"Q21\"], axis=1)\n",
    "nm3 = nm3.drop([\"RecordedDate\", \"ResponseId\", \"RecipientLastName\",\"Finished\",\"Duration (in seconds)\",\"Progress\",\"StartDate\",\"EndDate\",\"Status\",\"IPAddress\",\"RecipientFirstName\",\"RecipientEmail\",\"ExternalReference\",\"LocationLatitude\",\"LocationLongitude\",\"DistributionChannel\",\"UserLanguage\",\"Q21\"], axis=1)\n",
    "nm4 = nm4.drop([\"RecordedDate\", \"ResponseId\", \"RecipientLastName\",\"Finished\",\"Duration (in seconds)\",\"Progress\",\"StartDate\",\"EndDate\",\"Status\",\"IPAddress\",\"RecipientFirstName\",\"RecipientEmail\",\"ExternalReference\",\"LocationLatitude\",\"LocationLongitude\",\"DistributionChannel\",\"UserLanguage\",\"Q21\"], axis=1)"
   ]
  },
  {
   "cell_type": "code",
   "execution_count": 6,
   "metadata": {},
   "outputs": [],
   "source": [
    "# to rename the columns\n",
    "# first take the names from the desired columns\n",
    "names = m1.iloc[0]\n",
    "# rewrite the column names with those\n",
    "m1.columns = names\n",
    "\n",
    "names = m2.iloc[0]\n",
    "m2.columns = names\n",
    "names = m3.iloc[0]\n",
    "m3.columns = names\n",
    "names = m4.iloc[0]\n",
    "m4.columns = names\n",
    "\n",
    "names = nm1.iloc[0]\n",
    "nm1.columns = names\n",
    "names = nm2.iloc[0]\n",
    "nm2.columns = names\n",
    "names = nm3.iloc[0]\n",
    "nm3.columns = names\n",
    "names = nm4.iloc[0]\n",
    "nm4.columns = names\n"
   ]
  },
  {
   "cell_type": "code",
   "execution_count": 7,
   "metadata": {},
   "outputs": [],
   "source": [
    "m1 = m1.drop([0,1],axis=0)\n",
    "m2 = m2.drop([0,1],axis=0)\n",
    "m3 = m3.drop([0,1],axis=0)\n",
    "m4 = m4.drop([0,1],axis=0)\n",
    "\n",
    "nm1 = nm1.drop([0,1],axis=0)\n",
    "nm2 = nm2.drop([0,1],axis=0)\n",
    "nm3 = nm3.drop([0,1],axis=0)\n",
    "nm4 = nm4.drop([0,1],axis=0)"
   ]
  },
  {
   "cell_type": "code",
   "execution_count": 8,
   "metadata": {},
   "outputs": [],
   "source": [
    "m1 = pd.melt(m1, id_vars=['Please fill out the following fields. - MTurk ID','Please fill out the following fields. - Native Language','Please fill out the following fields. - Other language(s)'], var_name='factors',value_name='response')\n",
    "m2 = pd.melt(m2, id_vars=['Please fill out the following fields. - MTurk ID','Please fill out the following fields. - Native Language','Please fill out the following fields. - Other language(s)'], var_name='factors',value_name='response')\n",
    "m3 = pd.melt(m3, id_vars=['Please fill out the following fields. - MTurk ID','Please fill out the following fields. - Native Language','Please fill out the following fields. - Other language(s)'], var_name='factors',value_name='response')\n",
    "m4 = pd.melt(m4, id_vars=['Please fill out the following fields. - MTurk ID','Please fill out the following fields. - Native Language','Please fill out the following fields. - Other language(s)'], var_name='factors',value_name='response')\n",
    "\n",
    "\n",
    "nm1 = pd.melt(nm1, id_vars=['Please fill out the following fields. - MTurk ID','Please fill out the following fields. - Native Language','Please fill out the following fields. - Other language(s)'], var_name='factors',value_name='response')\n",
    "nm2 = pd.melt(nm2, id_vars=['Please fill out the following fields. - MTurk ID','Please fill out the following fields. - Native Language','Please fill out the following fields. - Other language(s)'], var_name='factors',value_name='response')\n",
    "nm3 = pd.melt(nm3, id_vars=['Please fill out the following fields. - MTurk ID','Please fill out the following fields. - Native Language','Please fill out the following fields. - Other language(s)'], var_name='factors',value_name='response')\n",
    "nm4 = pd.melt(nm4, id_vars=['Please fill out the following fields. - MTurk ID','Please fill out the following fields. - Native Language','Please fill out the following fields. - Other language(s)'], var_name='factors',value_name='response')"
   ]
  },
  {
   "cell_type": "code",
   "execution_count": 9,
   "metadata": {},
   "outputs": [],
   "source": [
    "# combine all together\n",
    "df = pd.concat([m1,m2,m3,m4,nm1,nm2,nm3,nm4])"
   ]
  },
  {
   "cell_type": "code",
   "execution_count": 10,
   "metadata": {},
   "outputs": [],
   "source": [
    "df = df.rename(columns={'Please fill out the following fields. - MTurk ID':'subject', 'Please fill out the following fields. - Native Language':'Nat_lang', 'Please fill out the following fields. - Other language(s)':'other_langs'})"
   ]
  },
  {
   "cell_type": "code",
   "execution_count": 11,
   "metadata": {},
   "outputs": [],
   "source": [
    "# first split the facts column into the component factors\n",
    "new = df['factors'].str.split('-', n=5, expand = True)\n",
    "\n",
    "# then put them back into the original df with proper factor names\n",
    "df[\"trial\"] = new[0]\n",
    "df[\"story\"] = new[1]\n",
    "df[\"wh\"] = new[2]\n",
    "df[\"modal\"] = new[3]\n",
    "df[\"answer\"] = new[4]\n",
    "df[\"string\"] = new[5]"
   ]
  },
  {
   "cell_type": "code",
   "execution_count": 12,
   "metadata": {},
   "outputs": [],
   "source": [
    "news = df['factors'].str.split(' - ', n=2, expand = True)\n",
    "df[\"factors\"] = news[0]\n",
    "df[\"string\"] = news[1]"
   ]
  },
  {
   "cell_type": "code",
   "execution_count": 19,
   "metadata": {},
   "outputs": [
    {
     "data": {
      "text/plain": [
       "0"
      ]
     },
     "execution_count": 19,
     "metadata": {},
     "output_type": "execute_result"
    }
   ],
   "source": [
    "len(df.loc[df.response == \"8\"])"
   ]
  },
  {
   "cell_type": "code",
   "execution_count": 21,
   "metadata": {},
   "outputs": [],
   "source": [
    "df.to_csv('ar_raw.csv', header=True)"
   ]
  },
  {
   "cell_type": "code",
   "execution_count": null,
   "metadata": {},
   "outputs": [],
   "source": []
  },
  {
   "cell_type": "code",
   "execution_count": null,
   "metadata": {},
   "outputs": [],
   "source": []
  }
 ],
 "metadata": {
  "kernelspec": {
   "display_name": "Python 3",
   "language": "python",
   "name": "python3"
  },
  "language_info": {
   "codemirror_mode": {
    "name": "ipython",
    "version": 3
   },
   "file_extension": ".py",
   "mimetype": "text/x-python",
   "name": "python",
   "nbconvert_exporter": "python",
   "pygments_lexer": "ipython3",
   "version": "3.8.3"
  }
 },
 "nbformat": 4,
 "nbformat_minor": 2
}
